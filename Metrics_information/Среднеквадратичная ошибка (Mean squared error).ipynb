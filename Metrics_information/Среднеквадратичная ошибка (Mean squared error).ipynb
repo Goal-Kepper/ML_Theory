{
  "nbformat": 4,
  "nbformat_minor": 0,
  "metadata": {
    "colab": {
      "provenance": []
    },
    "kernelspec": {
      "name": "python3",
      "display_name": "Python 3"
    },
    "language_info": {
      "name": "python"
    }
  },
  "cells": [
    {
      "cell_type": "markdown",
      "source": [
        "## Среднеквадратичная ошибка (mean_squared_error)\n",
        "\n",
        "Среднеквадратичная ошибка (MSE) является метрикой, которая измеряет среднее значение квадрата отклонения прогнозируемых значений от фактических значений целевой переменной. Она также широко используется в задачах регрессии в машинном обучении.\n",
        "\n",
        "Значения MSE также могут быть любыми неотрицательными числами, где более низкое значение MSE указывает на более точную модель. Если значение MSE равно 0, это означает, что модель абсолютно точна в прогнозировании целевой переменной. Чем выше значение MSE, тем менее точна модель.\n",
        "\n",
        "MSE лучше всего применять в случаях, когда даже сравнительно небольшие ошибки в прогнозах сильно влияют на результат."
      ],
      "metadata": {
        "id": "Qpqy6iaPwtCW"
      }
    },
    {
      "cell_type": "code",
      "execution_count": 1,
      "metadata": {
        "id": "OiHLYTfI2tvl"
      },
      "outputs": [],
      "source": [
        "def get_mean_squared_error(y_true, y_pred) -> float:\n",
        "    n = len(y_true)\n",
        "    error = sum([(y_true[i] - y_pred[i])**2 for i in range(n)]) / n\n",
        "    return error"
      ]
    },
    {
      "cell_type": "markdown",
      "source": [
        "### Сравним реализацию со встроенной функцией в scikit learn"
      ],
      "metadata": {
        "id": "cw6o7zaL2c7D"
      }
    },
    {
      "cell_type": "code",
      "source": [
        "from sklearn.metrics import mean_squared_error\n",
        "\n",
        "# истинные значения\n",
        "y_true = [3, -0.5, 2, 7]\n",
        "# предсказанные значения\n",
        "y_pred = [2.5, 0.0, 2, 8]\n",
        "\n",
        "# расчет среднеквадратичной ошибки\n",
        "error = mean_squared_error(y_true, y_pred)\n",
        "my_error = get_mean_squared_error(y_true, y_pred)\n",
        "\n",
        "print(\"Полученная среднеквадратичная ошибка на тесте 1:\", error)\n",
        "print(\"Рассчитанная среднеквадратичная ошибка на тесте 1:\", my_error)"
      ],
      "metadata": {
        "colab": {
          "base_uri": "https://localhost:8080/"
        },
        "id": "lc_xAnJu1QA5",
        "outputId": "f6405e0b-9748-451e-9ae1-b62eba437d63"
      },
      "execution_count": 2,
      "outputs": [
        {
          "output_type": "stream",
          "name": "stdout",
          "text": [
            "Полученная среднеквадратичная ошибка на тесте 1: 0.375\n",
            "Рассчитанная среднеквадратичная ошибка на тесте 1: 0.375\n"
          ]
        }
      ]
    },
    {
      "cell_type": "code",
      "source": [
        "from sklearn.metrics import mean_squared_error\n",
        "\n",
        "# истинные значения\n",
        "y_true = [-2, -2, -2]\n",
        "# предсказанные значения\n",
        "y_pred = [-2, -2, -2]\n",
        "\n",
        "# расчет среднеквадратичной ошибки\n",
        "error = mean_squared_error(y_true, y_pred)\n",
        "my_error = get_mean_squared_error(y_true, y_pred)\n",
        "\n",
        "print(\"Полученная среднеквадратичная ошибка на тесте 2:\", error)\n",
        "print(\"Рассчитанная среднеквадратичная ошибка на тесте 2:\", my_error)"
      ],
      "metadata": {
        "colab": {
          "base_uri": "https://localhost:8080/"
        },
        "id": "xibdZF2F1wio",
        "outputId": "f8871d54-288b-42b9-e3ca-20377338404c"
      },
      "execution_count": 3,
      "outputs": [
        {
          "output_type": "stream",
          "name": "stdout",
          "text": [
            "Полученная среднеквадратичная ошибка на тесте 2: 0.0\n",
            "Рассчитанная среднеквадратичная ошибка на тесте 2: 0.0\n"
          ]
        }
      ]
    },
    {
      "cell_type": "code",
      "source": [
        "from sklearn.metrics import mean_squared_error\n",
        "\n",
        "# истинные значения\n",
        "y_true = [-2, -2, -2]\n",
        "# предсказанные значения\n",
        "y_pred = [-2, -2, -2 + 1e-8]\n",
        "\n",
        "# расчет среднеквадратичной ошибки\n",
        "error = mean_squared_error(y_true, y_pred)\n",
        "my_error = get_mean_squared_error(y_true, y_pred)\n",
        "\n",
        "print(\"Полученная среднеквадратичная ошибка на тесте 3:\", error)\n",
        "print(\"Рассчитанная среднеквадратичная ошибка на тесте 3:\", my_error)"
      ],
      "metadata": {
        "colab": {
          "base_uri": "https://localhost:8080/"
        },
        "id": "TbCa2T652MBh",
        "outputId": "f417355f-150e-4012-ce4f-422966ff7bf9"
      },
      "execution_count": 4,
      "outputs": [
        {
          "output_type": "stream",
          "name": "stdout",
          "text": [
            "Полученная среднеквадратичная ошибка на тесте 3: 3.3333332928168605e-17\n",
            "Рассчитанная среднеквадратичная ошибка на тесте 3: 3.3333332928168605e-17\n"
          ]
        }
      ]
    },
    {
      "cell_type": "code",
      "source": [
        "from sklearn.metrics import mean_squared_error\n",
        "\n",
        "# истинные значения\n",
        "y_true = [1, 2, 3, 4, 5]\n",
        "# предсказанные значения\n",
        "y_pred = [3, 3, 3, 3, 3]\n",
        "\n",
        "# расчет среднеквадратичной ошибки\n",
        "error = mean_squared_error(y_true, y_pred)\n",
        "my_error = get_mean_squared_error(y_true, y_pred)\n",
        "\n",
        "print(\"Полученная среднеквадратичная ошибка на тесте 4:\", error)\n",
        "print(\"Рассчитанная среднеквадратичная ошибка на тесте 4:\", my_error)"
      ],
      "metadata": {
        "colab": {
          "base_uri": "https://localhost:8080/"
        },
        "id": "84_jwYxw68u6",
        "outputId": "8882cca8-417f-42c9-a8fe-f2b5cbbaf37c"
      },
      "execution_count": 5,
      "outputs": [
        {
          "output_type": "stream",
          "name": "stdout",
          "text": [
            "Полученная среднеквадратичная ошибка на тесте 4: 2.0\n",
            "Рассчитанная среднеквадратичная ошибка на тесте 4: 2.0\n"
          ]
        }
      ]
    },
    {
      "cell_type": "code",
      "source": [
        "from sklearn.metrics import mean_squared_error\n",
        "\n",
        "# истинные значения\n",
        "y_true = [1, 2, 3, 4, 5]\n",
        "# предсказанные значения\n",
        "y_pred = [2, 2, 2, 2, 4]\n",
        "\n",
        "# расчет среднеквадратичной ошибки\n",
        "error = mean_squared_error(y_true, y_pred)\n",
        "my_error = get_mean_squared_error(y_true, y_pred)\n",
        "\n",
        "print(\"Полученная среднеквадратичная ошибка на тесте 5:\", error)\n",
        "print(\"Рассчитанная среднеквадратичная ошибка на тесте 5:\", my_error)"
      ],
      "metadata": {
        "colab": {
          "base_uri": "https://localhost:8080/"
        },
        "id": "9-BNLcKf7Jq9",
        "outputId": "f4fb714d-e563-4c94-fc97-20d94866aa3c"
      },
      "execution_count": 6,
      "outputs": [
        {
          "output_type": "stream",
          "name": "stdout",
          "text": [
            "Полученная среднеквадратичная ошибка на тесте 5: 1.4\n",
            "Рассчитанная среднеквадратичная ошибка на тесте 5: 1.4\n"
          ]
        }
      ]
    },
    {
      "cell_type": "markdown",
      "source": [
        "### Рассмотрим поведение выборки на различных константных предсказаниях и найдем оптимальный вариант подобной константы"
      ],
      "metadata": {
        "id": "4gWWSyiFowoI"
      }
    },
    {
      "cell_type": "code",
      "source": [
        "import matplotlib.pyplot as plt\n",
        "import numpy as np\n",
        "\n",
        "x = 1, 2, 3, 4, 5, 6, 7, 8, 9, 10, 11\n",
        "y_true = 3, 7, 8, 4, 2, 5, 1, 5, 3, 2, 3\n",
        "checks = [i / 100 for i in range(1, 1001)]\n",
        "errors = []\n",
        "\n",
        "for i in checks:\n",
        "  y_pred = [i for j in range(len(y_true))]\n",
        "  errors.append(round(mean_squared_error(y_true, y_pred), 6))\n",
        "\n",
        "plt.plot(checks, errors, color='green')\n",
        "plt.xlabel(\"x\")\n",
        "plt.ylabel(\"y\")\n",
        "plt.show()\n",
        "\n",
        "print(f'Минимальная ошибка равна {min(errors)} и получена при значении {checks[errors.index(min(errors))]}')\n",
        "print(f'Среднее значение y_true при этом равно {round(sum(y_true) / len(y_true), 2)}')"
      ],
      "metadata": {
        "colab": {
          "base_uri": "https://localhost:8080/",
          "height": 484
        },
        "id": "Th1s034i-0e-",
        "outputId": "2356737e-31a1-4cd9-ef1b-10668bdeaaa1"
      },
      "execution_count": 12,
      "outputs": [
        {
          "output_type": "display_data",
          "data": {
            "text/plain": [
              "<Figure size 640x480 with 1 Axes>"
            ],
            "image/png": "[encoded data removed]"
          },
          "metadata": {}
        },
        {
          "output_type": "stream",
          "name": "stdout",
          "text": [
            "Минимальная ошибка равна 4.264464 и получена при значении 3.91\n",
            "Среднее значение y_true при этом равно 3.91\n"
          ]
        }
      ]
    },
    {
      "cell_type": "code",
      "source": [
        "import matplotlib.pyplot as plt\n",
        "import numpy as np\n",
        "\n",
        "x = 1, 2, 3, 4, 5, 6, 7, 8, 9, 10\n",
        "y_true = 1, 1, 1, 1, 5, 10, 10, 6, 5, 10\n",
        "checks = [i / 100 for i in range(1, 1001)]\n",
        "errors = []\n",
        "\n",
        "for i in checks:\n",
        "  y_pred = [i for j in range(len(y_true))]\n",
        "  errors.append(round(mean_squared_error(y_true, y_pred), 6))\n",
        "\n",
        "plt.plot(checks, errors, color='green')\n",
        "plt.xlabel(\"x\")\n",
        "plt.ylabel(\"y\")\n",
        "plt.show()\n",
        "\n",
        "print(f'Минимальная ошибка равна {min(errors)} и получена при значении {checks[errors.index(min(errors))]}')\n",
        "print(f'Среднее значение y_true при этом равно {round(sum(y_true) / len(y_true), 2)}')"
      ],
      "metadata": {
        "colab": {
          "base_uri": "https://localhost:8080/",
          "height": 487
        },
        "id": "k6GCVJkDqrBm",
        "outputId": "ef93fd90-2424-4d80-d194-0678d9aebca3"
      },
      "execution_count": 13,
      "outputs": [
        {
          "output_type": "display_data",
          "data": {
            "text/plain": [
              "<Figure size 640x480 with 1 Axes>"
            ],
            "image/png": "[encoded data removed]"
          },
          "metadata": {}
        },
        {
          "output_type": "stream",
          "name": "stdout",
          "text": [
            "Минимальная ошибка равна 14.0 и получена при значении 5.0\n",
            "Среднее значение y_true при этом равно 5.0\n"
          ]
        }
      ]
    },
    {
      "cell_type": "markdown",
      "source": [
        "Таким образом, получаем, что оптимальной константой в данном случае будет величина, равная среднему значению y_true."
      ],
      "metadata": {
        "id": "4WXdvK1X_BH3"
      }
    }
  ]
}