{
  "nbformat": 4,
  "nbformat_minor": 0,
  "metadata": {
    "colab": {
      "provenance": []
    },
    "kernelspec": {
      "name": "python3",
      "display_name": "Python 3"
    },
    "language_info": {
      "name": "python"
    }
  },
  "cells": [
    {
      "cell_type": "markdown",
      "source": [
        "## Средняя абсолютная ошибка (mean_absolute_error)\n",
        "\n",
        "Средняя абсолютная ошибка (MAE) - это метрика, используемая в машинном обучении для измерения точности модели. Она показывает среднее значение абсолютных отклонений прогнозов модели от истинных значений.\n",
        "\n",
        "MAE может принимать значения от 0 до бесконечности. Чем меньше значение MAE, тем лучше модель. Если MAE равно 0, то модель идеально предсказывает значения.\n",
        "\n",
        "MAE лучше всего применять в случаях, когда ошибки модели не должны быть сильно взвешены по отношению друг к другу. Например, если мы хотим предсказать цену на недвижимость, то каждая ошибка должна быть взвешена одинаково, и в этом случае MAE является подходящей метрикой."
      ],
      "metadata": {
        "id": "Qpqy6iaPwtCW"
      }
    },
    {
      "cell_type": "code",
      "execution_count": null,
      "metadata": {
        "id": "OiHLYTfI2tvl"
      },
      "outputs": [],
      "source": [
        "def get_mean_absolute_error(y_true, y_pred) -> float:\n",
        "    n = len(y_true)\n",
        "    error = sum([abs(y_true[i] - y_pred[i]) for i in range(n)]) / n\n",
        "    return error"
      ]
    },
    {
      "cell_type": "markdown",
      "source": [
        "### Сравним реализацию со встроенной функцией в scikit learn"
      ],
      "metadata": {
        "id": "cw6o7zaL2c7D"
      }
    },
    {
      "cell_type": "code",
      "source": [
        "from sklearn.metrics import mean_absolute_error\n",
        "\n",
        "# истинные значения\n",
        "y_true = [3, -0.5, 2, 7]\n",
        "# предсказанные значения\n",
        "y_pred = [2.5, 0.0, 2, 8]\n",
        "\n",
        "# расчет средней абсолютной ошибки\n",
        "error = mean_absolute_error(y_true, y_pred)\n",
        "my_error = get_mean_absolute_error(y_true, y_pred)\n",
        "\n",
        "print(\"Полученная средняя абсолютная ошибка на тесте 1:\", error)\n",
        "print(\"Рассчитанная средняя абсолютная ошибка на тесте 1:\", my_error)"
      ],
      "metadata": {
        "colab": {
          "base_uri": "https://localhost:8080/"
        },
        "id": "lc_xAnJu1QA5",
        "outputId": "89bf319d-677c-40bd-bd20-6e7f03133a6c"
      },
      "execution_count": null,
      "outputs": [
        {
          "output_type": "stream",
          "name": "stdout",
          "text": [
            "Полученная средняя абсолютная ошибка на тесте 1: 0.5\n",
            "Рассчитанная средняя абсолютная ошибка на тесте 1: 0.5\n"
          ]
        }
      ]
    },
    {
      "cell_type": "code",
      "source": [
        "from sklearn.metrics import mean_absolute_error\n",
        "\n",
        "# истинные значения\n",
        "y_true = [-2, -2, -2]\n",
        "# предсказанные значения\n",
        "y_pred = [-2, -2, -2]\n",
        "\n",
        "# расчет средней абсолютной ошибки\n",
        "error = mean_absolute_error(y_true, y_pred)\n",
        "my_error = get_mean_absolute_error(y_true, y_pred)\n",
        "\n",
        "print(\"Полученная средняя абсолютная ошибка на тесте 2:\", error)\n",
        "print(\"Рассчитанная средняя абсолютная ошибка на тесте 2:\", my_error)"
      ],
      "metadata": {
        "colab": {
          "base_uri": "https://localhost:8080/"
        },
        "id": "xibdZF2F1wio",
        "outputId": "f92e7b17-7b22-4323-c91c-1016e1ccef24"
      },
      "execution_count": null,
      "outputs": [
        {
          "output_type": "stream",
          "name": "stdout",
          "text": [
            "Полученная средняя абсолютная ошибка на тесте 2: 0.0\n",
            "Рассчитанная средняя абсолютная ошибка на тесте 2: 0.0\n"
          ]
        }
      ]
    },
    {
      "cell_type": "code",
      "source": [
        "from sklearn.metrics import mean_absolute_error\n",
        "\n",
        "# истинные значения\n",
        "y_true = [-2, -2, -2]\n",
        "# предсказанные значения\n",
        "y_pred = [-2, -2, -2 + 1e-8]\n",
        "\n",
        "# расчет средней абсолютной ошибки\n",
        "error = mean_absolute_error(y_true, y_pred)\n",
        "my_error = get_mean_absolute_error(y_true, y_pred)\n",
        "\n",
        "print(\"Полученная средняя абсолютная ошибка на тесте 3:\", error)\n",
        "print(\"Рассчитанная средняя абсолютная ошибка на тесте 3:\", my_error)"
      ],
      "metadata": {
        "colab": {
          "base_uri": "https://localhost:8080/"
        },
        "id": "TbCa2T652MBh",
        "outputId": "0fd597b0-614a-4083-94e1-438533733cd5"
      },
      "execution_count": null,
      "outputs": [
        {
          "output_type": "stream",
          "name": "stdout",
          "text": [
            "Полученная средняя абсолютная ошибка на тесте 3: 3.3333333130750966e-09\n",
            "Рассчитанная средняя абсолютная ошибка на тесте 3: 3.3333333130750966e-09\n"
          ]
        }
      ]
    },
    {
      "cell_type": "code",
      "source": [
        "from sklearn.metrics import mean_absolute_error\n",
        "\n",
        "# истинные значения\n",
        "y_true = [1, 2, 3, 4, 5]\n",
        "# предсказанные значения\n",
        "y_pred = [3, 3, 3, 3, 3]\n",
        "\n",
        "# расчет средней абсолютной ошибки\n",
        "error = mean_absolute_error(y_true, y_pred)\n",
        "my_error = get_mean_absolute_error(y_true, y_pred)\n",
        "\n",
        "print(\"Полученная средняя абсолютная ошибка на тесте 4:\", error)\n",
        "print(\"Рассчитанная средняя абсолютная ошибка на тесте 4:\", my_error)"
      ],
      "metadata": {
        "colab": {
          "base_uri": "https://localhost:8080/"
        },
        "id": "84_jwYxw68u6",
        "outputId": "1842754c-337e-46fd-dc8f-ea9eeff05499"
      },
      "execution_count": null,
      "outputs": [
        {
          "output_type": "stream",
          "name": "stdout",
          "text": [
            "Полученная средняя абсолютная ошибка на тесте 4: 1.2\n",
            "Рассчитанная средняя абсолютная ошибка на тесте 4: 1.2\n"
          ]
        }
      ]
    },
    {
      "cell_type": "code",
      "source": [
        "from sklearn.metrics import mean_absolute_error\n",
        "\n",
        "# истинные значения\n",
        "y_true = [1, 2, 3, 4, 5]\n",
        "# предсказанные значения\n",
        "y_pred = [2, 2, 2, 2, 4]\n",
        "\n",
        "# расчет средней абсолютной ошибки\n",
        "error = mean_absolute_error(y_true, y_pred)\n",
        "my_error = get_mean_absolute_error(y_true, y_pred)\n",
        "\n",
        "print(\"Полученная средняя абсолютная ошибка на тесте 5:\", error)\n",
        "print(\"Рассчитанная средняя абсолютная ошибка на тесте 5:\", my_error)"
      ],
      "metadata": {
        "colab": {
          "base_uri": "https://localhost:8080/"
        },
        "id": "9-BNLcKf7Jq9",
        "outputId": "ddff3347-219c-40f5-f79e-de8c9555f589"
      },
      "execution_count": null,
      "outputs": [
        {
          "output_type": "stream",
          "name": "stdout",
          "text": [
            "Полученная средняя абсолютная ошибка на тесте 5: 1.0\n",
            "Рассчитанная средняя абсолютная ошибка на тесте 5: 1.0\n"
          ]
        }
      ]
    },
    {
      "cell_type": "markdown",
      "source": [
        "### Рассмотрим поведение выборки на различных константных предсказаниях и найдем оптимальный вариант подобной константы"
      ],
      "metadata": {
        "id": "4gWWSyiFowoI"
      }
    },
    {
      "cell_type": "code",
      "source": [
        "import matplotlib.pyplot as plt\n",
        "import numpy as np\n",
        "\n",
        "x = 1, 2, 3, 4, 5, 6, 7, 8, 9, 10, 11\n",
        "y_true = 3, 7, 8, 4, 2, 5, 1, 5, 3, 2, 3\n",
        "checks = [i / 100 for i in range(1, 1001)]\n",
        "errors = []\n",
        "\n",
        "for i in checks:\n",
        "  y_pred = [i for j in range(len(y_true))]\n",
        "  errors.append(round(mean_absolute_error(y_true, y_pred), 6))\n",
        "\n",
        "plt.plot(checks, errors, color='green')\n",
        "plt.xlabel(\"x\")\n",
        "plt.ylabel(\"y\")\n",
        "plt.show()\n",
        "\n",
        "print(f'Минимальная ошибка равна {min(errors)} и получена при значении {checks[errors.index(min(errors))]}')\n",
        "print(f'Медиана y_true при этом равна {np.median(y_true)}')"
      ],
      "metadata": {
        "colab": {
          "base_uri": "https://localhost:8080/",
          "height": 484
        },
        "id": "Th1s034i-0e-",
        "outputId": "c3440ae5-4eaa-4727-9886-dcf022523c42"
      },
      "execution_count": null,
      "outputs": [
        {
          "output_type": "display_data",
          "data": {
            "text/plain": [
              "<Figure size 640x480 with 1 Axes>"
            ],
            "image/png": "[encoded data removed]"
          },
          "metadata": {}
        },
        {
          "output_type": "stream",
          "name": "stdout",
          "text": [
            "Минимальная ошибка равна 1.636364 и получена при значении 3.0\n",
            "Медиана y_true при этом равна 3.0\n"
          ]
        }
      ]
    },
    {
      "cell_type": "code",
      "source": [
        "import matplotlib.pyplot as plt\n",
        "import numpy as np\n",
        "\n",
        "x = 1, 2, 3, 4, 5, 6, 7, 8, 9, 10\n",
        "y_true = 1, 1, 1, 1, 5, 100, 100, 100, 5, 100\n",
        "checks = [i / 100 for i in range(1, 1001)]\n",
        "errors = []\n",
        "\n",
        "for i in checks:\n",
        "  y_pred = [i for j in range(len(y_true))]\n",
        "  errors.append(round(mean_absolute_error(y_true, y_pred), 6))\n",
        "\n",
        "plt.plot(checks, errors, color='green')\n",
        "plt.xlabel(\"x\")\n",
        "plt.ylabel(\"y\")\n",
        "plt.show()\n",
        "\n",
        "print(f'Минимальная ошибка равна {min(errors)} и получена при значении {checks[errors.index(min(errors))]}')\n",
        "print(f'Медиана y_true при этом равна {np.median(y_true)}')"
      ],
      "metadata": {
        "colab": {
          "base_uri": "https://localhost:8080/",
          "height": 484
        },
        "id": "k6GCVJkDqrBm",
        "outputId": "5a195876-03c5-4a88-8499-e4076d8d134d"
      },
      "execution_count": null,
      "outputs": [
        {
          "output_type": "display_data",
          "data": {
            "text/plain": [
              "<Figure size 640x480 with 1 Axes>"
            ],
            "image/png": "[encoded data removed]"
          },
          "metadata": {}
        },
        {
          "output_type": "stream",
          "name": "stdout",
          "text": [
            "Минимальная ошибка равна 39.6 и получена при значении 5.0\n",
            "Медиана y_true при этом равна 5.0\n"
          ]
        }
      ]
    },
    {
      "cell_type": "markdown",
      "source": [
        "Таким образом, получаем, что данная метрика фактически показывает среднюю ошибку среди предсказанных значений.\n",
        "Оптимальной константой в данном случае будет величина, равная медиане значений y_true."
      ],
      "metadata": {
        "id": "4WXdvK1X_BH3"
      }
    }
  ]
}