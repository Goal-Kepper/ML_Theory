{
  "nbformat": 4,
  "nbformat_minor": 0,
  "metadata": {
    "colab": {
      "provenance": []
    },
    "kernelspec": {
      "name": "python3",
      "display_name": "Python 3"
    },
    "language_info": {
      "name": "python"
    }
  },
  "cells": [
    {
      "cell_type": "markdown",
      "source": [
        "## Максимальная ошибка (max_error)\n",
        "\n",
        "Метрика максимальной ошибки в рамках машинного обучения представляет собой максимальное отклонение прогнозируемых значений от реальных значений. Она показывает наибольшую ошибку, которую модель может допустить при прогнозировании.\n",
        "\n",
        "Значения метрики максимальной ошибки могут быть любыми неотрицательными числами. Чем выше значение этой метрики, тем больше ошибок делает модель при прогнозировании. Если значение метрики равно нулю, то это означает, что модель абсолютно точно прогнозирует значения.\n",
        "\n",
        "Метрика максимальной ошибки лучше всего применяется в тех случаях, когда важно знать, насколько большим может быть отклонение прогнозируемых значений от реальных значений. Например, в задачах прогнозирования стоимости недвижимости или продажи товаров, где даже небольшие ошибки могут иметь большое значение."
      ],
      "metadata": {
        "id": "Qpqy6iaPwtCW"
      }
    },
    {
      "cell_type": "code",
      "execution_count": 40,
      "metadata": {
        "id": "OiHLYTfI2tvl"
      },
      "outputs": [],
      "source": [
        "def get_max_error(y_true, y_pred) -> float:\n",
        "    # объявляем переменную для записи максимальной ошибки\n",
        "    max_error = 0\n",
        "\n",
        "    # проходим по всем элементам массива и находим максимальную ошибку\n",
        "    for i in range(len(y_true)):\n",
        "        error = abs(y_true[i] - y_pred[i])\n",
        "        if error > max_error:\n",
        "            max_error = error\n",
        "    \n",
        "    return max_error"
      ]
    },
    {
      "cell_type": "markdown",
      "source": [
        "### Сравним реализацию со встроенной функцией в scikit learn"
      ],
      "metadata": {
        "id": "cw6o7zaL2c7D"
      }
    },
    {
      "cell_type": "code",
      "source": [
        "from sklearn.metrics import max_error\n",
        "\n",
        "# истинные значения\n",
        "y_true = [3, -0.5, 2, 7]\n",
        "# предсказанные значения\n",
        "y_pred = [2.5, 0.0, 2, 8]\n",
        "\n",
        "# расчет максимальной ошибки\n",
        "max_err = max_error(y_true, y_pred)\n",
        "my_max_err = get_max_error(y_true, y_pred)\n",
        "\n",
        "print(\"Полученная максимальная ошибка на тесте 1:\", max_err)\n",
        "print(\"Рассчитанная максимальная ошибка на тесте 1:\", my_max_err)"
      ],
      "metadata": {
        "colab": {
          "base_uri": "https://localhost:8080/"
        },
        "id": "lc_xAnJu1QA5",
        "outputId": "b672c6fe-e6f8-4294-93ef-13c1201ac0cd"
      },
      "execution_count": 41,
      "outputs": [
        {
          "output_type": "stream",
          "name": "stdout",
          "text": [
            "Полученная максимальная ошибка на тесте 1: 1.0\n",
            "Рассчитанная максимальная ошибка на тесте 1: 1\n"
          ]
        }
      ]
    },
    {
      "cell_type": "code",
      "source": [
        "from sklearn.metrics import max_error\n",
        "\n",
        "# истинные значения\n",
        "y_true = [-2, -2, -2]\n",
        "# предсказанные значения\n",
        "y_pred = [-2, -2, -2]\n",
        "\n",
        "# расчет максимальной ошибки\n",
        "max_err = max_error(y_true, y_pred)\n",
        "my_max_err = get_max_error(y_true, y_pred)\n",
        "\n",
        "print(\"Полученная максимальная ошибка на тесте 2:\", max_err)\n",
        "print(\"Рассчитанная максимальная ошибка на тесте 2:\", my_max_err)"
      ],
      "metadata": {
        "colab": {
          "base_uri": "https://localhost:8080/"
        },
        "id": "xibdZF2F1wio",
        "outputId": "a5d5a3f6-3880-48a7-f8c1-1871f8af02c1"
      },
      "execution_count": 42,
      "outputs": [
        {
          "output_type": "stream",
          "name": "stdout",
          "text": [
            "Полученная максимальная ошибка на тесте 2: 0\n",
            "Рассчитанная максимальная ошибка на тесте 2: 0\n"
          ]
        }
      ]
    },
    {
      "cell_type": "code",
      "source": [
        "from sklearn.metrics import max_error\n",
        "\n",
        "# истинные значения\n",
        "y_true = [-2, -2, -2]\n",
        "# предсказанные значения\n",
        "y_pred = [-2, -2, -2 + 1e-8]\n",
        "\n",
        "# расчет максимальной ошибки\n",
        "max_err = max_error(y_true, y_pred)\n",
        "my_max_err = get_max_error(y_true, y_pred)\n",
        "\n",
        "print(\"Полученная максимальная ошибка на тесте 3:\", max_err)\n",
        "print(\"Рассчитанная максимальная ошибка на тесте 3:\", my_max_err)"
      ],
      "metadata": {
        "colab": {
          "base_uri": "https://localhost:8080/"
        },
        "id": "TbCa2T652MBh",
        "outputId": "f6b1f96a-35ca-48ed-c545-23bb9b104764"
      },
      "execution_count": 43,
      "outputs": [
        {
          "output_type": "stream",
          "name": "stdout",
          "text": [
            "Полученная максимальная ошибка на тесте 3: 9.99999993922529e-09\n",
            "Рассчитанная максимальная ошибка на тесте 3: 9.99999993922529e-09\n"
          ]
        }
      ]
    },
    {
      "cell_type": "code",
      "source": [
        "from sklearn.metrics import max_error\n",
        "\n",
        "# истинные значения\n",
        "y_true = [1, 2, 3, 4, 5]\n",
        "# предсказанные значения\n",
        "y_pred = [3, 3, 3, 3, 3]\n",
        "\n",
        "# расчет максимальной ошибки\n",
        "max_err = max_error(y_true, y_pred)\n",
        "my_max_err = get_max_error(y_true, y_pred)\n",
        "\n",
        "print(\"Полученная максимальная ошибка на тесте 4:\", max_err)\n",
        "print(\"Рассчитанная максимальная ошибка на тесте 4:\", my_max_err)"
      ],
      "metadata": {
        "colab": {
          "base_uri": "https://localhost:8080/"
        },
        "id": "84_jwYxw68u6",
        "outputId": "5eb06559-46b5-48b7-d249-4f4531dd84f4"
      },
      "execution_count": 44,
      "outputs": [
        {
          "output_type": "stream",
          "name": "stdout",
          "text": [
            "Полученная максимальная ошибка на тесте 4: 2\n",
            "Рассчитанная максимальная ошибка на тесте 4: 2\n"
          ]
        }
      ]
    },
    {
      "cell_type": "code",
      "source": [
        "from sklearn.metrics import max_error\n",
        "\n",
        "# истинные значения\n",
        "y_true = [1, 2, 3, 4, 5]\n",
        "# предсказанные значения\n",
        "y_pred = [2, 2, 2, 2, 4]\n",
        "\n",
        "# расчет максимальной ошибки\n",
        "max_err = max_error(y_true, y_pred)\n",
        "my_max_err = get_max_error(y_true, y_pred)\n",
        "\n",
        "print(\"Полученная максимальная ошибка на тесте 5:\", max_err)\n",
        "print(\"Рассчитанная максимальная ошибка на тесте 5:\", my_max_err)"
      ],
      "metadata": {
        "colab": {
          "base_uri": "https://localhost:8080/"
        },
        "id": "9-BNLcKf7Jq9",
        "outputId": "2bf33b9a-01d2-447c-ca0a-ffff94a0efc5"
      },
      "execution_count": 45,
      "outputs": [
        {
          "output_type": "stream",
          "name": "stdout",
          "text": [
            "Полученная максимальная ошибка на тесте 5: 2\n",
            "Рассчитанная максимальная ошибка на тесте 5: 2\n"
          ]
        }
      ]
    },
    {
      "cell_type": "markdown",
      "source": [
        "### Рассмотрим поведение выборки на различных константных предсказаниях и найдем оптимальный вариант подобной константы"
      ],
      "metadata": {
        "id": "4gWWSyiFowoI"
      }
    },
    {
      "cell_type": "code",
      "source": [
        "import matplotlib.pyplot as plt\n",
        "\n",
        "x = 1, 2, 3, 4, 5, 6, 7, 8, 9, 10\n",
        "y_true = 3, 7, 8, 4, 2, 5, 1, 5, 3, 2\n",
        "checks = [i / 10 for i in range(1, 101)]\n",
        "errors = []\n",
        "\n",
        "for i in checks:\n",
        "  y_pred = [i for j in range(len(y_true))]\n",
        "  errors.append(max_error(y_true, y_pred))\n",
        "\n",
        "plt.plot(checks, errors, color='green')\n",
        "plt.xlabel(\"x\")\n",
        "plt.ylabel(\"y\")\n",
        "plt.show()\n",
        "\n",
        "print(f'Минимальная ошибка равна {min(errors)} и получена при значении {checks[errors.index(min(errors))]}')\n",
        "print(f'Медиана (величина, равная середине между минимальным и максимальным значением) y_true при этом равна {(min(y_true) + max(y_true)) / 2}')"
      ],
      "metadata": {
        "colab": {
          "base_uri": "https://localhost:8080/",
          "height": 484
        },
        "id": "Th1s034i-0e-",
        "outputId": "67b667dc-8d36-46b4-e2a6-cb52ff937dc2"
      },
      "execution_count": 46,
      "outputs": [
        {
          "output_type": "display_data",
          "data": {
            "text/plain": [
              "<Figure size 640x480 with 1 Axes>"
            ],
            "image/png": "[encoded data removed]"
          },
          "metadata": {}
        },
        {
          "output_type": "stream",
          "name": "stdout",
          "text": [
            "Минимальная ошибка равна 3.5 и получена при значении 4.5\n",
            "Медиана (величина, равная середине между минимальным и максимальным значением) y_true при этом равна 4.5\n"
          ]
        }
      ]
    },
    {
      "cell_type": "code",
      "source": [
        "import matplotlib.pyplot as plt\n",
        "\n",
        "x = 1, 2, 3, 4, 5, 6, 7, 8, 9, 10\n",
        "y_true = 4, 5, 5, 5, 5, 5, 5, 6, 6, 100\n",
        "checks = [i / 10 for i in range(1, 1001)]\n",
        "errors = []\n",
        "\n",
        "for i in checks:\n",
        "  y_pred = [i for j in range(len(y_true))]\n",
        "  errors.append(max_error(y_true, y_pred))\n",
        "\n",
        "plt.plot(checks, errors, color='green')\n",
        "plt.xlabel(\"x\")\n",
        "plt.ylabel(\"y\")\n",
        "plt.show()\n",
        "\n",
        "print(f'Минимальная ошибка равна {min(errors)} и получена при значении {checks[errors.index(min(errors))]}')\n",
        "print(f'Медиана (величина, равная середине между минимальным и максимальным значением) y_true при этом равна {(min(y_true) + max(y_true)) / 2}')"
      ],
      "metadata": {
        "colab": {
          "base_uri": "https://localhost:8080/",
          "height": 484
        },
        "id": "k6GCVJkDqrBm",
        "outputId": "012e1e7d-7590-4560-ece0-9fecaab33936"
      },
      "execution_count": 47,
      "outputs": [
        {
          "output_type": "display_data",
          "data": {
            "text/plain": [
              "<Figure size 640x480 with 1 Axes>"
            ],
            "image/png": "[encoded data removed]"
          },
          "metadata": {}
        },
        {
          "output_type": "stream",
          "name": "stdout",
          "text": [
            "Минимальная ошибка равна 48.0 и получена при значении 52.0\n",
            "Медиана (величина, равная середине между минимальным и максимальным значением) y_true при этом равна 52.0\n"
          ]
        }
      ]
    },
    {
      "cell_type": "markdown",
      "source": [
        "Таким образом, получаем, что данная метрика фактически показывает максимальную ошибку среди предсказанных значений.\n",
        "Оптимальной константой в данном случае будет величина, равная середине отрезка между минимальным и максимальным значениями y_true."
      ],
      "metadata": {
        "id": "4WXdvK1X_BH3"
      }
    }
  ]
}